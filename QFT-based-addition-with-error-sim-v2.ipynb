{
 "cells": [
  {
   "cell_type": "code",
   "execution_count": 27,
   "id": "23ad426f",
   "metadata": {},
   "outputs": [
    {
     "name": "stderr",
     "output_type": "stream",
     "text": [
      "ibmqfactory.load_account:WARNING:2021-04-18 12:54:36,939: Credentials are already in use. The existing account in the session will be replaced.\n"
     ]
    }
   ],
   "source": [
    "import numpy as np\n",
    "import math\n",
    "# Importing standard Qiskit libraries\n",
    "from qiskit import QuantumCircuit, transpile, execute, Aer\n",
    "from qiskit import ClassicalRegister, QuantumRegister, IBMQ\n",
    "from qiskit.tools.jupyter import *\n",
    "from qiskit.visualization import *\n",
    "from ibm_quantum_widgets import *\n",
    "from qiskit.compiler import transpile, assemble\n",
    "from qiskit.providers.aer import AerSimulator\n",
    "from qiskit.tools.visualization import plot_histogram\n",
    "\n",
    "# Importing functions to run on real device\n",
    "from qiskit.tools.monitor import job_monitor\n",
    "from qiskit.providers.ibmq import least_busy\n",
    "\n",
    "# Loading your IBM Q account(s)\n",
    "provider = IBMQ.load_account()"
   ]
  },
  {
   "cell_type": "code",
   "execution_count": 3,
   "id": "338b7410",
   "metadata": {},
   "outputs": [],
   "source": [
    "# define functions first\n",
    "# adopted from:\n",
    "# https://medium.com/@sashwat.anagolum/arithmetic-on-quantum-computers-multiplication-4482cdc2d83b\n",
    "\n",
    "def createInputState(qc, reg, n, pie):\n",
    "    \"\"\"\n",
    "    Apply one Hadamard gate to the nth qubit of the quantum register               \n",
    "    reg, and then apply repeated phase rotations with parameters  \n",
    "    being pi divided by increasing powers of two.\n",
    "    \"\"\"\n",
    "    qc.h(reg[n])    \n",
    "    for i in range(0, n):\n",
    "        qc.cu1(pie/float(2**(i+1)), reg[n-(i+1)], reg[n])"
   ]
  },
  {
   "cell_type": "code",
   "execution_count": 4,
   "id": "178ff673",
   "metadata": {},
   "outputs": [],
   "source": [
    "        \n",
    "def evolveQFTState(qc, reg_a, reg_b, n, pie):\n",
    "    \"\"\"\n",
    "    Evolves the state |F(ψ(reg_a))> to |F(ψ(reg_a+reg_b))> using the     \n",
    "    quantum Fourier transform conditioned on the qubits of reg_b.\n",
    "    Apply repeated phase rotations with parameters being pi divided \n",
    "    by increasing powers of two.\n",
    "    \"\"\"\n",
    "    for i in range(0, n+1):\n",
    "        qc.cu1(pie/float(2**(i)), reg_b[n-i], reg_a[n])\n",
    "    "
   ]
  },
  {
   "cell_type": "code",
   "execution_count": 5,
   "id": "5ddd24e6",
   "metadata": {},
   "outputs": [],
   "source": [
    "def inverseQFT(qc, reg, n, pie):\n",
    "    \"\"\"\n",
    "    Performs the inverse quantum Fourier transform on a register \n",
    "    reg. Apply repeated phase rotations with parameters being pi    \n",
    "    divided by decreasing powers of two, and then apply a Hadamard \n",
    "    gate to the nth qubit of the register reg.\n",
    "    \"\"\"\n",
    "    for i in range(0, n):\n",
    "        qc.cu1(-1*pie/float(2**(n-i)), reg[i], reg[n])\n",
    "    qc.h(reg[n]) \n",
    "   "
   ]
  },
  {
   "cell_type": "code",
   "execution_count": 6,
   "id": "8ed836db",
   "metadata": {},
   "outputs": [
    {
     "name": "stdout",
     "output_type": "stream",
     "text": [
      "Enter a number with less than 10 digits.01\n",
      "Enter another number with less than 10 digits.01\n"
     ]
    }
   ],
   "source": [
    "#Take two numbers as user input in binary form   \n",
    "first = input(\"Enter a number with less than 10 digits.\")\n",
    "second = input(\"Enter another number with less than 10 digits.\")\n",
    "\n",
    "l1 = len(first)\n",
    "l2 = len(second)\n",
    "# Making sure that 'first' and 'second' are of the same length \n",
    "# by padding the smaller string with zeros\n",
    "if l2>l1:\n",
    "    first,second = second, first\n",
    "    l2, l1 = l1, l2\n",
    "second = (\"0\")*(l1-l2) + second"
   ]
  },
  {
   "cell_type": "code",
   "execution_count": 7,
   "id": "c11fc76b",
   "metadata": {},
   "outputs": [
    {
     "data": {
      "image/png": "[encoded data removed]",
      "text/plain": [
       "<Figure size 116.843x445.48 with 1 Axes>"
      ]
     },
     "execution_count": 7,
     "metadata": {},
     "output_type": "execute_result"
    }
   ],
   "source": [
    "# determine n - length of the digits\n",
    "n = max(l1,l2)\n",
    "#print(l1,l2,n)\n",
    "pie = math.pi    \n",
    " \n",
    "# prepare 2 quantum registers based on the digit length   \n",
    "a = QuantumRegister(n+1, \"a\") #Holds the first number\n",
    "b = QuantumRegister(n+1, \"b\") #Holds the second number    \n",
    "\n",
    "# We then create a classical register cl to hold the final output \n",
    "cl = ClassicalRegister(n+1, \"cl\") #Holds the final output\n",
    "\n",
    "# and put all of the registers together in a quantum circuit qc:\n",
    "qc = QuantumCircuit(a, b, cl, name=\"qc\")\n",
    "\n",
    "# SIZE OF THE CIRCUIT IS:\n",
    "# 2*(n+1) of qubits and n+1 of classical registers\n",
    "\n",
    "qc.draw(\"mpl\")\n",
    "\n",
    "#Now we have to store the two numbers in the registers a and b:"
   ]
  },
  {
   "cell_type": "code",
   "execution_count": null,
   "id": "65af8b9b",
   "metadata": {},
   "outputs": [],
   "source": []
  },
  {
   "cell_type": "code",
   "execution_count": 8,
   "id": "731ef31c",
   "metadata": {},
   "outputs": [],
   "source": [
    "# Flip the corresponding qubit in register a if a bit in the \n",
    "# string first is a 1\n",
    "for i in range(0, n):\n",
    "#        print(\"bits in first number\",first[i])     # for debugging only\n",
    "        if first[i] == \"1\":\n",
    "            qc.x(a[n-(i+1)])    \n",
    "            \n",
    "# Flip the corresponding qubit in register b if a bit in the \n",
    "# string second is a 1\n",
    "\n",
    "for i in range(0, n):\n",
    "#        print(\"bits in second number\",second[i])    # for debugging only\n",
    "        if second[i] == \"1\":\n",
    "            qc.x(b[n-(i+1)])\n",
    " "
   ]
  },
  {
   "cell_type": "code",
   "execution_count": 9,
   "id": "f3758ae5",
   "metadata": {},
   "outputs": [
    {
     "name": "stderr",
     "output_type": "stream",
     "text": [
      "<ipython-input-3-5ed3a8cae651>:13: DeprecationWarning: The QuantumCircuit.cu1 method is deprecated as of 0.16.0. It will be removed no earlier than 3 months after the release date. You should use the QuantumCircuit.cp method instead, which acts identically.\n",
      "  qc.cu1(pie/float(2**(i+1)), reg[n-(i+1)], reg[n])\n"
     ]
    },
    {
     "data": {
      "image/png": "[encoded data removed]",
      "text/plain": [
       "<Figure size 628.543x445.48 with 1 Axes>"
      ]
     },
     "execution_count": 9,
     "metadata": {},
     "output_type": "execute_result"
    }
   ],
   "source": [
    "           \n",
    "# Compute the Fourier transform of register a\n",
    "for i in range(0, n+1):\n",
    "        createInputState(qc, a, n-i, pie)    #Add the two numbers by evolving the Fourier transform  \n",
    "\n",
    "qc.draw()      "
   ]
  },
  {
   "cell_type": "code",
   "execution_count": 10,
   "id": "93b411b8",
   "metadata": {},
   "outputs": [
    {
     "data": {
      "image/png": "[encoded data removed]",
      "text/plain": [
       "<Figure size 1471.34x445.48 with 1 Axes>"
      ]
     },
     "execution_count": 10,
     "metadata": {},
     "output_type": "execute_result"
    }
   ],
   "source": [
    "#F(ψ(reg_a)) >to |F(ψ(reg_a+reg_b))>\n",
    "for i in range(0, n+1):\n",
    "        evolveQFTState(qc, a, b, n-i, pie)    #Compute the inverse Fourier transform of register a\n",
    "for i in range(0, n+1):\n",
    "        inverseQFT(qc, a, i, pie)\n",
    "\n",
    "qc.draw(\"mpl\")"
   ]
  },
  {
   "cell_type": "code",
   "execution_count": 11,
   "id": "bcb03641",
   "metadata": {},
   "outputs": [],
   "source": [
    "for i in range(0, n+1):\n",
    "        qc.measure(a[i], cl[i])"
   ]
  },
  {
   "cell_type": "code",
   "execution_count": 12,
   "id": "f564b94f",
   "metadata": {},
   "outputs": [
    {
     "data": {
      "image/png": "[encoded data removed]",
      "text/plain": [
       "<Figure size 504x360 with 1 Axes>"
      ]
     },
     "execution_count": 12,
     "metadata": {},
     "output_type": "execute_result"
    }
   ],
   "source": [
    "# let's run it now on the QASM simulator\n",
    "\n",
    "qasm_sim = Aer.get_backend('qasm_simulator')\n",
    "add_circuit = transpile(qc, qasm_sim)\n",
    "qobj = assemble(add_circuit)\n",
    "result = qasm_sim.run(qobj).result()\n",
    "counts = result.get_counts()\n",
    "plot_histogram(counts)        "
   ]
  },
  {
   "cell_type": "code",
   "execution_count": 13,
   "id": "d586c0c2",
   "metadata": {},
   "outputs": [],
   "source": [
    "# let's run it now on the QASM simulator\n",
    "# but let's introduce ERRORs\n",
    "# BASED ON: https://qiskit.org/documentation/tutorials/simulators/2_device_noise_simulation.html\n",
    "\n",
    "# note: this shows summary of all available QCs (including IBM, and amount of qbits.):\n",
    "# https://en.wikipedia.org/wiki/List_of_quantum_processors\n",
    "# needed to select \n",
    "\n",
    "from qiskit.test.mock import FakeMelbourne\n",
    "from qiskit.test.mock import FakeRueschlikon\n",
    "device_backend_fm = FakeMelbourne()\n",
    "device_backend_fr = FakeRueschlikon()"
   ]
  },
  {
   "cell_type": "code",
   "execution_count": 14,
   "id": "5a72882d",
   "metadata": {},
   "outputs": [],
   "source": [
    "# list of all fake providers\n",
    "# https://github.com/Qiskit/qiskit-terra/blob/master/qiskit/test/mock/fake_provider.py"
   ]
  },
  {
   "cell_type": "code",
   "execution_count": 19,
   "id": "77daa5c4",
   "metadata": {},
   "outputs": [
    {
     "name": "stdout",
     "output_type": "stream",
     "text": [
      "\n",
      "This backend is called fake_qasm_simulator, and is on version 0.0.0. It has 5 qubits.\n",
      "\n",
      "This backend is called fake_openpulse_2q, and is on version 0.0.0. It has 2 qubits.\n",
      "\n",
      "This backend is called fake_openpulse_3q, and is on version 0.0.0. It has 3 qubits.\n",
      "\n",
      "This backend is called fake_armonk, and is on version 2.4.3. It has 1 qubit.\n",
      "\n",
      "This backend is called fake_yorktown, and is on version 2.3.3. It has 5 qubits.\n",
      "\n",
      "This backend is called fake_tenerife, and is on version 0.0.0. It has 5 qubits.\n",
      "\n",
      "This backend is called fake_ourense, and is on version 1.3.5. It has 5 qubits.\n",
      "\n",
      "This backend is called fake_vigo, and is on version 1.3.6. It has 5 qubits.\n",
      "\n",
      "This backend is called fake_valencia, and is on version 1.4.6. It has 5 qubits.\n",
      "\n",
      "This backend is called fake_essex, and is on version 1.0.2. It has 5 qubits.\n",
      "\n",
      "This backend is called fake_london, and is on version 1.1.3. It has 5 qubits.\n",
      "\n",
      "This backend is called fake_burlington, and is on version 1.1.4. It has 5 qubits.\n",
      "\n",
      "This backend is called fake_melbourne, and is on version 0.0.0. It has 14 qubits.\n",
      "\n",
      "This backend is called fake_rueschlikon, and is on version 0.0.0. It has 16 qubits.\n",
      "\n",
      "This backend is called fake_tokyo, and is on version 0.0.0. It has 20 qubits.\n",
      "\n",
      "This backend is called fake_poughkeepsie, and is on version 0.0.0. It has 20 qubits.\n",
      "\n",
      "This backend is called fake_almaden, and is on version 1.4.6. It has 20 qubits.\n",
      "\n",
      "This backend is called fake_singapore, and is on version 1.1.13. It has 20 qubits.\n",
      "\n",
      "This backend is called fake_johannesburg, and is on version 1.2.2. It has 20 qubits.\n",
      "\n",
      "This backend is called fake_boeblingen, and is on version 1.2.9. It has 20 qubits.\n",
      "\n",
      "This backend is called fake_cambridge, and is on version 1.2.0. It has 28 qubits.\n",
      "\n",
      "This backend is called fake_cambridge, and is on version 1.2.0. It has 28 qubits.\n",
      "\n",
      "This backend is called fake_paris, and is on version 1.7.11. It has 27 qubits.\n",
      "\n",
      "This backend is called fake_rochester, and is on version 1.2.0. It has 53 qubits.\n",
      "\n",
      "This backend is called fake_rome, and is on version 1.3.16. It has 5 qubits.\n",
      "\n",
      "This backend is called fake_athens, and is on version 1.3.13. It has 5 qubits.\n",
      "\n",
      "This backend is called fake_bogota, and is on version 1.4.10. It has 5 qubits.\n",
      "\n",
      "This backend is called fake_montreal, and is on version 1.9.5. It has 27 qubits.\n",
      "\n",
      "This backend is called fake_toronto, and is on version 1.4.21. It has 27 qubits.\n",
      "\n",
      "This backend is called fake_manhattan, and is on version 1.13.4. It has 65 qubits.\n",
      "\n",
      "This backend is called fake_santiago, and is on version 1.3.14. It has 5 qubits.\n",
      "\n",
      "This backend is called fake_casablanca, and is on version 1.1.14. It has 7 qubits.\n",
      "\n",
      "This backend is called fake_sydney, and is on version 1.0.34. It has 27 qubits.\n",
      "\n",
      "This backend is called fake_mumbai, and is on version 1.4.5. It has 27 qubits.\n",
      "\n",
      "This backend is called fake_lima, and is on version 1.0.5. It has 5 qubits.\n",
      "\n",
      "This backend is called fake_belem, and is on version 1.0.3. It has 5 qubits.\n",
      "\n",
      "This backend is called fake_quito, and is on version 1.0.8. It has 5 qubits.\n"
     ]
    }
   ],
   "source": [
    "# let's check properties of same QCs and qubit number\n",
    "from qiskit.test.mock import FakeProvider\n",
    "from qiskit.test.mock import * \n",
    "\n",
    "x = FakeProvider()\n",
    "x.backends()\n",
    "\n",
    "\n",
    "for val in x.backends():\n",
    "    device_backend = val\n",
    "    config = device_backend.configuration() \n",
    "#     print(config.backend_name)\n",
    "#     print(config.n_qubits)\n",
    "    print()\n",
    "    print(\"This backend is called {0}, and is on version {1}. It has {2} qubit{3}.\"\n",
    "      \"\".format(config.backend_name,\n",
    "                config.backend_version,\n",
    "                config.n_qubits,\n",
    "                '' if config.n_qubits == 1 else 's'))"
   ]
  },
  {
   "cell_type": "code",
   "execution_count": 17,
   "id": "3d4c56d5",
   "metadata": {},
   "outputs": [],
   "source": [
    "\n",
    "# FakeTokyo,  FakeAlmaden, FakeJohannesburg, FakeSingapore, FakeBoeblingen - 20 qubits\n",
    "# FakeCambridge  28 qubits \n",
    "# Fake Paris, Montreals, Toronto, Sydney, Mumbai have 27 qubits\n",
    "# FakeRochester 53 qubits !\n",
    "# FakeManhattan 65 qubits !"
   ]
  },
  {
   "cell_type": "code",
   "execution_count": 20,
   "id": "cd3c28d3",
   "metadata": {},
   "outputs": [
    {
     "name": "stdout",
     "output_type": "stream",
     "text": [
      "This backend is called fake_melbourne, and is on version 0.0.0. It has 14 qubits. It does not support OpenPulse programs. The basis gates supported on this device are ['u1', 'u2', 'u3', 'cx', 'id'].\n",
      "\n",
      "This backend is called fake_manhattan, and is on version 1.13.4. It has 65 qubits. It supports OpenPulse programs. The basis gates supported on this device are ['id', 'rz', 'sx', 'x', 'cx', 'reset'].\n"
     ]
    }
   ],
   "source": [
    "# let's run simulation on 2 backends\n",
    "# first display their properties again:\n",
    "\n",
    "device_backend1 = FakeMelbourne()\n",
    "config = device_backend1.configuration()\n",
    "# Basic Features\n",
    "print(\"This backend is called {0}, and is on version {1}. It has {2} qubit{3}. It \"\n",
    "      \"{4} OpenPulse programs. The basis gates supported on this device are {5}.\"\n",
    "      \"\".format(config.backend_name,\n",
    "                config.backend_version,\n",
    "                config.n_qubits,\n",
    "                '' if config.n_qubits == 1 else 's',\n",
    "                'supports' if config.open_pulse else 'does not support',\n",
    "                config.basis_gates))\n",
    "\n",
    "\n",
    "device_backend2 = FakeManhattan()\n",
    "config = device_backend2.configuration()\n",
    "# Basic Features\n",
    "print(\"\\nThis backend is called {0}, and is on version {1}. It has {2} qubit{3}. It \"\n",
    "      \"{4} OpenPulse programs. The basis gates supported on this device are {5}.\"\n",
    "      \"\".format(config.backend_name,\n",
    "                config.backend_version,\n",
    "                config.n_qubits,\n",
    "                '' if config.n_qubits == 1 else 's',\n",
    "                'supports' if config.open_pulse else 'does not support',\n",
    "                config.basis_gates))"
   ]
  },
  {
   "cell_type": "code",
   "execution_count": 22,
   "id": "453215b7",
   "metadata": {},
   "outputs": [
    {
     "name": "stderr",
     "output_type": "stream",
     "text": [
      "Device reported a gate error parameter greater than maximum allowed value (1.000000 > 0.800000). Truncating to maximum value.\n",
      "Device model returned a depolarizing error parameter greater than maximum allowed value (1.067353 > 1.066667). Truncating to maximum value.\n",
      "Device reported a gate error parameter greater than maximum allowed value (1.000000 > 0.800000). Truncating to maximum value.\n",
      "Device model returned a depolarizing error parameter greater than maximum allowed value (1.067403 > 1.066667). Truncating to maximum value.\n",
      "Device reported a gate error parameter greater than maximum allowed value (1.000000 > 0.800000). Truncating to maximum value.\n",
      "Device model returned a depolarizing error parameter greater than maximum allowed value (1.067553 > 1.066667). Truncating to maximum value.\n",
      "Device reported a gate error parameter greater than maximum allowed value (1.000000 > 0.800000). Truncating to maximum value.\n",
      "Device model returned a depolarizing error parameter greater than maximum allowed value (1.067624 > 1.066667). Truncating to maximum value.\n",
      "Device reported a gate error parameter greater than maximum allowed value (1.000000 > 0.800000). Truncating to maximum value.\n",
      "Device model returned a depolarizing error parameter greater than maximum allowed value (1.067673 > 1.066667). Truncating to maximum value.\n",
      "Device reported a gate error parameter greater than maximum allowed value (1.000000 > 0.800000). Truncating to maximum value.\n",
      "Device model returned a depolarizing error parameter greater than maximum allowed value (1.067749 > 1.066667). Truncating to maximum value.\n",
      "Device reported a gate error parameter greater than maximum allowed value (1.000000 > 0.800000). Truncating to maximum value.\n",
      "Device model returned a depolarizing error parameter greater than maximum allowed value (1.067070 > 1.066667). Truncating to maximum value.\n",
      "Device reported a gate error parameter greater than maximum allowed value (1.000000 > 0.800000). Truncating to maximum value.\n",
      "Device model returned a depolarizing error parameter greater than maximum allowed value (1.067120 > 1.066667). Truncating to maximum value.\n",
      "Device reported a gate error parameter greater than maximum allowed value (1.000000 > 0.800000). Truncating to maximum value.\n",
      "Device model returned a depolarizing error parameter greater than maximum allowed value (1.067322 > 1.066667). Truncating to maximum value.\n",
      "Device reported a gate error parameter greater than maximum allowed value (1.000000 > 0.800000). Truncating to maximum value.\n",
      "Device model returned a depolarizing error parameter greater than maximum allowed value (1.067392 > 1.066667). Truncating to maximum value.\n",
      "Device reported a gate error parameter greater than maximum allowed value (1.000000 > 0.800000). Truncating to maximum value.\n",
      "Device model returned a depolarizing error parameter greater than maximum allowed value (1.067465 > 1.066667). Truncating to maximum value.\n",
      "Device reported a gate error parameter greater than maximum allowed value (1.000000 > 0.800000). Truncating to maximum value.\n",
      "Device model returned a depolarizing error parameter greater than maximum allowed value (1.067554 > 1.066667). Truncating to maximum value.\n",
      "Device reported a gate error parameter greater than maximum allowed value (1.000000 > 0.800000). Truncating to maximum value.\n",
      "Device model returned a depolarizing error parameter greater than maximum allowed value (1.067277 > 1.066667). Truncating to maximum value.\n",
      "Device reported a gate error parameter greater than maximum allowed value (1.000000 > 0.800000). Truncating to maximum value.\n",
      "Device model returned a depolarizing error parameter greater than maximum allowed value (1.067348 > 1.066667). Truncating to maximum value.\n",
      "Device reported a gate error parameter greater than maximum allowed value (1.000000 > 0.800000). Truncating to maximum value.\n",
      "Device model returned a depolarizing error parameter greater than maximum allowed value (1.067096 > 1.066667). Truncating to maximum value.\n",
      "Device reported a gate error parameter greater than maximum allowed value (1.000000 > 0.800000). Truncating to maximum value.\n",
      "Device model returned a depolarizing error parameter greater than maximum allowed value (1.067145 > 1.066667). Truncating to maximum value.\n",
      "Device reported a gate error parameter greater than maximum allowed value (1.000000 > 0.800000). Truncating to maximum value.\n",
      "Device model returned a depolarizing error parameter greater than maximum allowed value (1.067174 > 1.066667). Truncating to maximum value.\n",
      "Device reported a gate error parameter greater than maximum allowed value (1.000000 > 0.800000). Truncating to maximum value.\n",
      "Device model returned a depolarizing error parameter greater than maximum allowed value (1.067228 > 1.066667). Truncating to maximum value.\n",
      "Device reported a gate error parameter greater than maximum allowed value (1.000000 > 0.800000). Truncating to maximum value.\n",
      "Device model returned a depolarizing error parameter greater than maximum allowed value (1.067441 > 1.066667). Truncating to maximum value.\n",
      "Device reported a gate error parameter greater than maximum allowed value (1.000000 > 0.800000). Truncating to maximum value.\n",
      "Device model returned a depolarizing error parameter greater than maximum allowed value (1.067527 > 1.066667). Truncating to maximum value.\n",
      "Device reported a gate error parameter greater than maximum allowed value (1.000000 > 0.800000). Truncating to maximum value.\n",
      "Device model returned a depolarizing error parameter greater than maximum allowed value (1.067134 > 1.066667). Truncating to maximum value.\n",
      "Device reported a gate error parameter greater than maximum allowed value (1.000000 > 0.800000). Truncating to maximum value.\n",
      "Device model returned a depolarizing error parameter greater than maximum allowed value (1.067190 > 1.066667). Truncating to maximum value.\n",
      "Device reported a gate error parameter greater than maximum allowed value (1.000000 > 0.800000). Truncating to maximum value.\n",
      "Device model returned a depolarizing error parameter greater than maximum allowed value (1.067052 > 1.066667). Truncating to maximum value.\n",
      "Device reported a gate error parameter greater than maximum allowed value (1.000000 > 0.800000). Truncating to maximum value.\n",
      "Device model returned a depolarizing error parameter greater than maximum allowed value (1.067103 > 1.066667). Truncating to maximum value.\n",
      "Device reported a gate error parameter greater than maximum allowed value (1.000000 > 0.800000). Truncating to maximum value.\n",
      "Device model returned a depolarizing error parameter greater than maximum allowed value (1.067033 > 1.066667). Truncating to maximum value.\n",
      "Device reported a gate error parameter greater than maximum allowed value (1.000000 > 0.800000). Truncating to maximum value.\n",
      "Device model returned a depolarizing error parameter greater than maximum allowed value (1.067076 > 1.066667). Truncating to maximum value.\n",
      "Device reported a gate error parameter greater than maximum allowed value (1.000000 > 0.800000). Truncating to maximum value.\n",
      "Device model returned a depolarizing error parameter greater than maximum allowed value (1.067098 > 1.066667). Truncating to maximum value.\n",
      "Device reported a gate error parameter greater than maximum allowed value (1.000000 > 0.800000). Truncating to maximum value.\n",
      "Device model returned a depolarizing error parameter greater than maximum allowed value (1.067152 > 1.066667). Truncating to maximum value.\n",
      "Device reported a gate error parameter greater than maximum allowed value (1.000000 > 0.800000). Truncating to maximum value.\n",
      "Device model returned a depolarizing error parameter greater than maximum allowed value (1.067119 > 1.066667). Truncating to maximum value.\n",
      "Device reported a gate error parameter greater than maximum allowed value (1.000000 > 0.800000). Truncating to maximum value.\n",
      "Device model returned a depolarizing error parameter greater than maximum allowed value (1.067177 > 1.066667). Truncating to maximum value.\n",
      "Device reported a gate error parameter greater than maximum allowed value (1.000000 > 0.800000). Truncating to maximum value.\n",
      "Device model returned a depolarizing error parameter greater than maximum allowed value (1.068017 > 1.066667). Truncating to maximum value.\n",
      "Device reported a gate error parameter greater than maximum allowed value (1.000000 > 0.800000). Truncating to maximum value.\n",
      "Device model returned a depolarizing error parameter greater than maximum allowed value (1.068201 > 1.066667). Truncating to maximum value.\n",
      "Device reported a gate error parameter greater than maximum allowed value (1.000000 > 0.800000). Truncating to maximum value.\n",
      "Device model returned a depolarizing error parameter greater than maximum allowed value (1.067257 > 1.066667). Truncating to maximum value.\n",
      "Device reported a gate error parameter greater than maximum allowed value (1.000000 > 0.800000). Truncating to maximum value.\n",
      "Device model returned a depolarizing error parameter greater than maximum allowed value (1.067326 > 1.066667). Truncating to maximum value.\n",
      "Device reported a gate error parameter greater than maximum allowed value (1.000000 > 0.800000). Truncating to maximum value.\n",
      "Device model returned a depolarizing error parameter greater than maximum allowed value (1.067264 > 1.066667). Truncating to maximum value.\n",
      "Device reported a gate error parameter greater than maximum allowed value (1.000000 > 0.800000). Truncating to maximum value.\n",
      "Device model returned a depolarizing error parameter greater than maximum allowed value (1.067323 > 1.066667). Truncating to maximum value.\n",
      "Device reported a gate error parameter greater than maximum allowed value (1.000000 > 0.800000). Truncating to maximum value.\n",
      "Device model returned a depolarizing error parameter greater than maximum allowed value (1.067484 > 1.066667). Truncating to maximum value.\n",
      "Device reported a gate error parameter greater than maximum allowed value (1.000000 > 0.800000). Truncating to maximum value.\n",
      "Device model returned a depolarizing error parameter greater than maximum allowed value (1.067573 > 1.066667). Truncating to maximum value.\n",
      "Device reported a gate error parameter greater than maximum allowed value (1.000000 > 0.800000). Truncating to maximum value.\n",
      "Device model returned a depolarizing error parameter greater than maximum allowed value (1.067157 > 1.066667). Truncating to maximum value.\n",
      "Device reported a gate error parameter greater than maximum allowed value (1.000000 > 0.800000). Truncating to maximum value.\n",
      "Device model returned a depolarizing error parameter greater than maximum allowed value (1.067208 > 1.066667). Truncating to maximum value.\n",
      "Device reported a gate error parameter greater than maximum allowed value (1.000000 > 0.800000). Truncating to maximum value.\n",
      "Device model returned a depolarizing error parameter greater than maximum allowed value (1.067057 > 1.066667). Truncating to maximum value.\n",
      "Device reported a gate error parameter greater than maximum allowed value (1.000000 > 0.800000). Truncating to maximum value.\n",
      "Device model returned a depolarizing error parameter greater than maximum allowed value (1.067102 > 1.066667). Truncating to maximum value.\n",
      "Device reported a gate error parameter greater than maximum allowed value (1.000000 > 0.800000). Truncating to maximum value.\n",
      "Device model returned a depolarizing error parameter greater than maximum allowed value (1.067283 > 1.066667). Truncating to maximum value.\n",
      "Device reported a gate error parameter greater than maximum allowed value (1.000000 > 0.800000). Truncating to maximum value.\n",
      "Device model returned a depolarizing error parameter greater than maximum allowed value (1.067344 > 1.066667). Truncating to maximum value.\n"
     ]
    }
   ],
   "source": [
    "sim_melbourne = AerSimulator.from_backend(device_backend1)\n",
    "sim_manhattan = AerSimulator.from_backend(device_backend2)"
   ]
  },
  {
   "cell_type": "code",
   "execution_count": 24,
   "id": "b6763a07",
   "metadata": {},
   "outputs": [
    {
     "data": {
      "image/png": "[encoded data removed]",
      "text/plain": [
       "<Figure size 504x360 with 1 Axes>"
      ]
     },
     "execution_count": 24,
     "metadata": {},
     "output_type": "execute_result"
    }
   ],
   "source": [
    "# Transpile the circuit for the noisy basis gates\n",
    "noisy_add_circuit1 = transpile(qc, sim_melbourne)\n",
    "\n",
    "# Execute noisy simulation and get counts on 2 different emulated noisy QCs\n",
    "result_noise1 = sim_melbourne.run(noisy_add_circuit1).result()\n",
    "counts_noise1 = result_noise1.get_counts(0)\n",
    "plot_histogram(counts_noise1,\n",
    "               title=\"Addition with noise model - run on Melbourne\")"
   ]
  },
  {
   "cell_type": "code",
   "execution_count": 25,
   "id": "c1a75dc5",
   "metadata": {},
   "outputs": [
    {
     "data": {
      "image/png": "[encoded data removed]",
      "text/plain": [
       "<Figure size 504x360 with 1 Axes>"
      ]
     },
     "execution_count": 25,
     "metadata": {},
     "output_type": "execute_result"
    }
   ],
   "source": [
    "# Transpile the circuit for the noisy basis gates\n",
    "noisy_add_circuit2 = transpile(qc, sim_manhattan)\n",
    "\n",
    "# Execute noisy simulation and get counts on 2 different emulated noisy QCs\n",
    "result_noise2 = sim_manhattan.run(noisy_add_circuit2).result()\n",
    "counts_noise2 = result_noise2.get_counts(0)\n",
    "plot_histogram(counts_noise2,\n",
    "               title=\"Addition with noise model - run on Manhattan\")"
   ]
  },
  {
   "cell_type": "markdown",
   "id": "571743d5",
   "metadata": {},
   "source": [
    "## Let run the same on the real QC"
   ]
  },
  {
   "cell_type": "code",
   "execution_count": 28,
   "id": "067f2af0",
   "metadata": {},
   "outputs": [
    {
     "name": "stderr",
     "output_type": "stream",
     "text": [
      "ibmqfactory.load_account:WARNING:2021-04-18 12:54:44,572: Credentials are already in use. The existing account in the session will be replaced.\n"
     ]
    },
    {
     "name": "stdout",
     "output_type": "stream",
     "text": [
      "Running on current least busy device:  ibmq_16_melbourne\n"
     ]
    }
   ],
   "source": [
    "# let's run the same on the real quantum computer\n",
    "# number of qubits needed:\n",
    "m = (n +1)*2\n",
    "\n",
    "# Loading your IBM Q account(s)\n",
    "provider = IBMQ.load_account()\n",
    "provider = IBMQ.get_provider()\n",
    "backend = least_busy(provider.backends(filters=lambda x: x.configuration().n_qubits >= m and \n",
    "                                   not x.configuration().simulator and x.status().operational==True))\n",
    "print(\"Running on current least busy device: \", backend)"
   ]
  },
  {
   "cell_type": "code",
   "execution_count": 31,
   "id": "6ae88daf",
   "metadata": {},
   "outputs": [],
   "source": [
    "# Run our circuit on the least busy backend. Monitor the execution of the job in the queue\n",
    "transpiled_add_circuit = transpile(qc, backend, optimization_level=3)"
   ]
  },
  {
   "cell_type": "code",
   "execution_count": null,
   "id": "498e648c",
   "metadata": {},
   "outputs": [
    {
     "name": "stdout",
     "output_type": "stream",
     "text": [
      "Job Status: job is queued (None)  "
     ]
    }
   ],
   "source": [
    "# Create a Quantum Program for execution\n",
    "job_real_qc = execute(transpiled_add_circuit, backend)\n",
    "job_monitor(job_real_qc, interval=2)"
   ]
  },
  {
   "cell_type": "code",
   "execution_count": null,
   "id": "f6caad2b",
   "metadata": {},
   "outputs": [],
   "source": [
    "# Get the results from the computation\n",
    "results = job_real_qc.result()\n",
    "answer = results.get_counts(qc)\n",
    "plot_histogram(answer) "
   ]
  }
 ],
 "metadata": {
  "kernelspec": {
   "display_name": "Python 3",
   "language": "python",
   "name": "python3"
  },
  "language_info": {
   "codemirror_mode": {
    "name": "ipython",
    "version": 3
   },
   "file_extension": ".py",
   "mimetype": "text/x-python",
   "name": "python",
   "nbconvert_exporter": "python",
   "pygments_lexer": "ipython3",
   "version": "3.8.8"
  }
 },
 "nbformat": 4,
 "nbformat_minor": 5
}
